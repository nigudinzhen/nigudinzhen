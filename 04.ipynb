{
 "cells": [
  {
   "cell_type": "code",
   "execution_count": 1,
   "metadata": {},
   "outputs": [
    {
     "name": "stdout",
     "output_type": "stream",
     "text": [
      "https://github.com/zhangsan\n"
     ]
    }
   ],
   "source": [
    "# 假设list_of_dicts是上面定义的包含十个元素的字典列表  \n",
    "list_of_dicts = [  \n",
    "    {\"姓名\": \"张三\", \"学号\": \"20210101\", \"github仓库地址\": \"https://github.com/zhangsan\"},  \n",
    "    {\"姓名\": \"李四\", \"学号\": \"20220202\", \"github仓库地址\": \"https://github.com/lisi\"},  \n",
    "    {\"姓名\": \"王五\", \"学号\": \"20210303\", \"github仓库地址\": \"https://github.com/wangwu\"},  \n",
    "    {\"姓名\": \"赵六\", \"学号\": \"20220404\", \"github仓库地址\": \"https://github.com/zhaoliu\"},  \n",
    "    {\"姓名\": \"孙七\", \"学号\": \"20210505\", \"github仓库地址\": \"https://github.com/sunqi\"},  \n",
    "    {\"姓名\": \"周八\", \"学号\": \"20220606\", \"github仓库地址\": \"https://github.com/zhouba\"},  \n",
    "    {\"姓名\": \"吴九\", \"学号\": \"20210707\", \"github仓库地址\": \"https://github.com/wujiu\"},  \n",
    "    {\"姓名\": \"郑十\", \"学号\": \"20220808\", \"github仓库地址\": \"https://github.com/zhengshi\"},  \n",
    "    {\"姓名\": \"冯十一\", \"学号\": \"20210909\", \"github仓库地址\": \"https://github.com/fengshili\"},  \n",
    "    {\"姓名\": \"陈十二\", \"学号\": \"20221010\", \"github仓库地址\": \"https://github.com/chenshihe\"}  \n",
    "]  \n",
    "  \n",
    "# 指定同学的姓名  \n",
    "target_name = \"张三\"  \n",
    "  \n",
    "# 遍历列表，筛选出指定同学的github仓库地址  \n",
    "for dict_item in list_of_dicts:  \n",
    "    if dict_item[\"姓名\"] == target_name:  \n",
    "        print(dict_item[\"github仓库地址\"])"
   ]
  },
  {
   "cell_type": "code",
   "execution_count": 2,
   "metadata": {},
   "outputs": [],
   "source": [
    "def get_repo_by_name(dict_item,list_of_dicts):\n",
    "    for dict_item in list_of_dicts:\n",
    "        if dict_item['姓名'] == dict_item:\n",
    "            print(dict_item[\"github仓库地址\"])"
   ]
  },
  {
   "cell_type": "code",
   "execution_count": 3,
   "metadata": {},
   "outputs": [],
   "source": [
    "get_repo_by_name('李四',list_of_dicts)"
   ]
  }
 ],
 "metadata": {
  "kernelspec": {
   "display_name": "Python 3",
   "language": "python",
   "name": "python3"
  },
  "language_info": {
   "codemirror_mode": {
    "name": "ipython",
    "version": 3
   },
   "file_extension": ".py",
   "mimetype": "text/x-python",
   "name": "python",
   "nbconvert_exporter": "python",
   "pygments_lexer": "ipython3",
   "version": "3.8.10"
  },
  "orig_nbformat": 4
 },
 "nbformat": 4,
 "nbformat_minor": 2
}
